{
 "cells": [
  {
   "cell_type": "code",
   "execution_count": 1,
   "id": "42267040-4e60-4f5e-bd44-ec3033515a41",
   "metadata": {},
   "outputs": [],
   "source": [
    "import numpy"
   ]
  },
  {
   "cell_type": "code",
   "execution_count": 2,
   "id": "b8c041a6-c200-46a9-8e0c-b1dccbd61817",
   "metadata": {},
   "outputs": [],
   "source": [
    "import ase"
   ]
  },
  {
   "cell_type": "code",
   "execution_count": 3,
   "id": "d5ef6329-a565-4689-a9f3-32184ac5ab73",
   "metadata": {},
   "outputs": [],
   "source": [
    "import pytdscf"
   ]
  },
  {
   "cell_type": "code",
   "execution_count": 4,
   "id": "c4a13d6c-48a4-4caf-a438-a9f35d57ece9",
   "metadata": {},
   "outputs": [
    {
     "ename": "ModuleNotFoundError",
     "evalue": "No module named 'mendeleev'",
     "output_type": "error",
     "traceback": [
      "\u001b[0;31m---------------------------------------------------------------------------\u001b[0m",
      "\u001b[0;31mModuleNotFoundError\u001b[0m                       Traceback (most recent call last)",
      "Input \u001b[0;32mIn [4]\u001b[0m, in \u001b[0;36m<cell line: 1>\u001b[0;34m()\u001b[0m\n\u001b[0;32m----> 1\u001b[0m \u001b[38;5;28;01mimport\u001b[39;00m \u001b[38;5;21;01mmendeleev\u001b[39;00m\n",
      "\u001b[0;31mModuleNotFoundError\u001b[0m: No module named 'mendeleev'"
     ]
    }
   ],
   "source": [
    "import mendeleev"
   ]
  },
  {
   "cell_type": "code",
   "execution_count": 6,
   "id": "bd372ea9-df9a-47a4-a73c-f912f6839237",
   "metadata": {},
   "outputs": [
    {
     "ename": "ModuleNotFoundError",
     "evalue": "No module named 'mendeleev'",
     "output_type": "error",
     "traceback": [
      "\u001b[0;31m---------------------------------------------------------------------------\u001b[0m",
      "\u001b[0;31mModuleNotFoundError\u001b[0m                       Traceback (most recent call last)",
      "Input \u001b[0;32mIn [6]\u001b[0m, in \u001b[0;36m<cell line: 2>\u001b[0;34m()\u001b[0m\n\u001b[1;32m      1\u001b[0m get_ipython()\u001b[38;5;241m.\u001b[39msystem(\u001b[38;5;124m'\u001b[39m\u001b[38;5;124mpython -c \u001b[39m\u001b[38;5;124m\"\u001b[39m\u001b[38;5;124mimport mendeleev\u001b[39m\u001b[38;5;124m\"\u001b[39m\u001b[38;5;124m'\u001b[39m)\n\u001b[0;32m----> 2\u001b[0m \u001b[38;5;28;01mimport\u001b[39;00m \u001b[38;5;21;01mmendeleev\u001b[39;00m\n",
      "\u001b[0;31mModuleNotFoundError\u001b[0m: No module named 'mendeleev'"
     ]
    }
   ],
   "source": [
    "!python -c \"import mendeleev\"\n",
    "import mendeleev"
   ]
  },
  {
   "cell_type": "code",
   "execution_count": 7,
   "id": "a6ee1352-97fc-4756-9d8a-e8ad05299a14",
   "metadata": {},
   "outputs": [],
   "source": [
    "import sys"
   ]
  },
  {
   "cell_type": "code",
   "execution_count": 8,
   "id": "8ddff4eb-896b-44aa-aac3-cf609ece66cc",
   "metadata": {},
   "outputs": [
    {
     "data": {
      "text/plain": [
       "['/mnt/c/Users/hinom/GitHub/PyVibLocalizer/src',\n",
       " '/home/hinom/GitHub/ase_kuchem',\n",
       " '/home/hinom/GitHub/PyTDSCF',\n",
       " '/mnt/c/Users/hinom/GitHub/PyVibLocalizer/src',\n",
       " '/opt/intel/oneapi/intelpython/latest/lib/python39.zip',\n",
       " '/opt/intel/oneapi/intelpython/latest/lib/python3.9',\n",
       " '/opt/intel/oneapi/intelpython/latest/lib/python3.9/lib-dynload',\n",
       " '',\n",
       " '/home/hinom/.local/lib/python3.9/site-packages',\n",
       " '/opt/intel/oneapi/intelpython/latest/lib/python3.9/site-packages']"
      ]
     },
     "execution_count": 8,
     "metadata": {},
     "output_type": "execute_result"
    }
   ],
   "source": [
    "sys.path"
   ]
  },
  {
   "cell_type": "code",
   "execution_count": null,
   "id": "8b780e8c-f21f-4c23-83de-a16506356384",
   "metadata": {},
   "outputs": [],
   "source": []
  }
 ],
 "metadata": {
  "kernelspec": {
   "display_name": "Python 3 (ipykernel)",
   "language": "python",
   "name": "python3"
  },
  "language_info": {
   "codemirror_mode": {
    "name": "ipython",
    "version": 3
   },
   "file_extension": ".py",
   "mimetype": "text/x-python",
   "name": "python",
   "nbconvert_exporter": "python",
   "pygments_lexer": "ipython3",
   "version": "3.9.10"
  }
 },
 "nbformat": 4,
 "nbformat_minor": 5
}

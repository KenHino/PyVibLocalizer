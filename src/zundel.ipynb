{
 "cells": [
  {
   "cell_type": "markdown",
   "id": "4ac27352-d1c1-4549-8a47-7b1d26dac539",
   "metadata": {},
   "source": [
    "Zundel Cation"
   ]
  },
  {
   "cell_type": "code",
   "execution_count": 3,
   "id": "5f7b8ecb-0e2c-4c5c-bafd-3634d2e851e4",
   "metadata": {},
   "outputs": [],
   "source": [
    "from pyvib import Vibration, read_minfo, write_minfo"
   ]
  },
  {
   "cell_type": "code",
   "execution_count": null,
   "id": "f1cfbab9-7624-4f5a-9228-06464630c83e",
   "metadata": {},
   "outputs": [],
   "source": []
  }
 ],
 "metadata": {
  "kernelspec": {
   "display_name": "Python 3 (ipykernel)",
   "language": "python",
   "name": "python3"
  },
  "language_info": {
   "codemirror_mode": {
    "name": "ipython",
    "version": 3
   },
   "file_extension": ".py",
   "mimetype": "text/x-python",
   "name": "python",
   "nbconvert_exporter": "python",
   "pygments_lexer": "ipython3",
   "version": "3.10.2"
  }
 },
 "nbformat": 4,
 "nbformat_minor": 5
}
